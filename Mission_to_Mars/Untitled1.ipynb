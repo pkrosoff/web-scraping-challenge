{
 "cells": [
  {
   "cell_type": "code",
   "execution_count": 11,
   "metadata": {},
   "outputs": [],
   "source": [
    "def scrape():\n",
    "    import os\n",
    "    from bs4 import BeautifulSoup\n",
    "    from splinter import Browser\n",
    "    import requests\n",
    "    import pandas as pd\n",
    "    import time\n",
    "    import pymongo\n",
    "    \n",
    "    executable_path = {'executable_path':'/Users/pkrosoff/Downloads/chromedriver'}\n",
    "    browser = Browser('chrome', **executable_path, headless=False)\n",
    "\n",
    "    url = \"https://mars.nasa.gov/news/\"\n",
    "    browser.visit(url)\n",
    "    time.sleep(3)\n",
    "    html = browser.html\n",
    "    soup = BeautifulSoup(html,'html.parser')\n",
    "    sections = soup.find('li', class_='slide')\n",
    "    container = sections.find('div', class_='image_and_description_container')\n",
    "    title_text = container.find('div', class_='list_text')\n",
    "    news_title = (title_text.find('div', class_='content_title')).text\n",
    "    #scrape news text\n",
    "    news_p = (title_text.find('div', class_='article_teaser_body')).text\n",
    "    mars_news = {\n",
    "        'news_title': news_title,\n",
    "        'news_p': news_p\n",
    "    }\n",
    "    #featured image scrape\n",
    "    url = \"https://www.jpl.nasa.gov/spaceimages/?search=&category=Mars\"\n",
    "    response = requests.get(url)\n",
    "    soup = BeautifulSoup(response.text,'html.parser')\n",
    "    article = soup.find('article', class_='carousel_item')\n",
    "    div = article.find('div', class_='default floating_text_area ms-layer')\n",
    "    image = div.find('a')['data-fancybox-href']\n",
    "    image = image.replace('mediumsize','largesize')\n",
    "    url = url.replace('/spaceimages/?search=&category=Mars','')\n",
    "    featured_image_url = f'{url}{image}'\n",
    "\n",
    "    #table scrape    \n",
    "    url = \"https://space-facts.com/mars/\"\n",
    "    response = requests.get(url)\n",
    "    soup = BeautifulSoup(response.text,'html.parser')\n",
    "    table = pd.read_html(url)\n",
    "    df = table[0]\n",
    "    df.columns=[\"Parameter\",\"Measurement\"]\n",
    "    df.set_index(\"Parameter\",inplace=True)\n",
    "    fact_table = df.to_html()\n",
    "    fact_table = fact_table.replace('\\n','')\n",
    "\n",
    "    #hemispheres scrape\n",
    "    url = 'https://astrogeology.usgs.gov/search/results?q=hemisphere+enhanced&k1=target&v1=Mars'\n",
    "    response = requests.get(url)\n",
    "    soup = BeautifulSoup(response.text,'html.parser')\n",
    "    hemispheres = []\n",
    "    mars_biz = []\n",
    "    items = soup.find_all('div', class_='item')\n",
    "    for item in items:\n",
    "        description = item.find('div', class_='description')\n",
    "        image_title = (description.find('h3')).text\n",
    "        partial_image_url = item.find('img', class_='thumb')['src']\n",
    "        image_url = f'{url}{partial_image_url}'\n",
    "        hemisphere_dict = {\n",
    "            \"title\": image_title,\n",
    "            \"image_url\": image_url\n",
    "        }\n",
    "        hemispheres.append(hemisphere_dict)\n",
    "#combine to fill data dict\n",
    "    mars_biz = [{\"news_article\": mars_news}, {\"featured_image\": featured_image_url}, {\"fact_table\": fact_table}, {\"hemispheres\": hemispheres}]\n",
    "    \n",
    "        #connect to mongo\n",
    "    conn = 'mongodb://localhost:27017'\n",
    "    client = pymongo.MongoClient(conn)\n",
    "    #declare the database\n",
    "    db = client.mars_db\n",
    "    #declare the collection\n",
    "#     mars_site = db.mars_db\n",
    "    #empty database for new scraped data\n",
    "    db.mars_site.drop()\n",
    "    #populate database with scraped data variable from mars_scrape\n",
    "    db.mars_site.insert_one(mars_biz)\n",
    "# results = mars_site.find()\n",
    "# for result in results:\n",
    "#     print(result)\n",
    "    return mars_biz\n",
    "\n",
    "\n",
    "\n"
   ]
  },
  {
   "cell_type": "code",
   "execution_count": 12,
   "metadata": {
    "scrolled": true
   },
   "outputs": [
    {
     "data": {
      "text/plain": [
       "[{'news_article': {'news_title': \"NASA's New Mars Rover Will Use X-Rays to Hunt Fossils\",\n",
       "   'news_p': \"PIXL, an instrument on the end of the Perseverance rover's arm, will search for chemical fingerprints left by ancient microbes.\"}},\n",
       " {'featured_image': 'https://www.jpl.nasa.gov/spaceimages/images/largesize/PIA19347_ip.jpg'},\n",
       " {'fact_table': '<table border=\"1\" class=\"dataframe\">  <thead>    <tr style=\"text-align: right;\">      <th></th>      <th>Measurement</th>    </tr>    <tr>      <th>Parameter</th>      <th></th>    </tr>  </thead>  <tbody>    <tr>      <th>Equatorial Diameter:</th>      <td>6,792 km</td>    </tr>    <tr>      <th>Polar Diameter:</th>      <td>6,752 km</td>    </tr>    <tr>      <th>Mass:</th>      <td>6.39 × 10^23 kg (0.11 Earths)</td>    </tr>    <tr>      <th>Moons:</th>      <td>2 (Phobos &amp; Deimos)</td>    </tr>    <tr>      <th>Orbit Distance:</th>      <td>227,943,824 km (1.38 AU)</td>    </tr>    <tr>      <th>Orbit Period:</th>      <td>687 days (1.9 years)</td>    </tr>    <tr>      <th>Surface Temperature:</th>      <td>-87 to -5 °C</td>    </tr>    <tr>      <th>First Record:</th>      <td>2nd millennium BC</td>    </tr>    <tr>      <th>Recorded By:</th>      <td>Egyptian astronomers</td>    </tr>  </tbody></table>'},\n",
       " {'hemispheres': [{'title': 'Cerberus Hemisphere Enhanced',\n",
       "    'image_url': 'https://astrogeology.usgs.gov/search/results?q=hemisphere+enhanced&k1=target&v1=Mars/cache/images/39d3266553462198bd2fbc4d18fbed17_cerberus_enhanced.tif_thumb.png'},\n",
       "   {'title': 'Schiaparelli Hemisphere Enhanced',\n",
       "    'image_url': 'https://astrogeology.usgs.gov/search/results?q=hemisphere+enhanced&k1=target&v1=Mars/cache/images/08eac6e22c07fb1fe72223a79252de20_schiaparelli_enhanced.tif_thumb.png'},\n",
       "   {'title': 'Syrtis Major Hemisphere Enhanced',\n",
       "    'image_url': 'https://astrogeology.usgs.gov/search/results?q=hemisphere+enhanced&k1=target&v1=Mars/cache/images/55a0a1e2796313fdeafb17c35925e8ac_syrtis_major_enhanced.tif_thumb.png'},\n",
       "   {'title': 'Valles Marineris Hemisphere Enhanced',\n",
       "    'image_url': 'https://astrogeology.usgs.gov/search/results?q=hemisphere+enhanced&k1=target&v1=Mars/cache/images/4e59980c1c57f89c680c0e1ccabbeff1_valles_marineris_enhanced.tif_thumb.png'}]}]"
      ]
     },
     "execution_count": 12,
     "metadata": {},
     "output_type": "execute_result"
    }
   ],
   "source": [
    "scrape()"
   ]
  },
  {
   "cell_type": "code",
   "execution_count": null,
   "metadata": {},
   "outputs": [],
   "source": []
  },
  {
   "cell_type": "code",
   "execution_count": null,
   "metadata": {},
   "outputs": [],
   "source": []
  }
 ],
 "metadata": {
  "kernelspec": {
   "display_name": "Python 3",
   "language": "python",
   "name": "python3"
  },
  "language_info": {
   "codemirror_mode": {
    "name": "ipython",
    "version": 3
   },
   "file_extension": ".py",
   "mimetype": "text/x-python",
   "name": "python",
   "nbconvert_exporter": "python",
   "pygments_lexer": "ipython3",
   "version": "3.6.10"
  }
 },
 "nbformat": 4,
 "nbformat_minor": 4
}
