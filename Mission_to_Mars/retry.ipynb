{
 "cells": [
  {
   "cell_type": "code",
   "execution_count": 29,
   "metadata": {},
   "outputs": [],
   "source": [
    "\n",
    "def scrape():\n",
    "    \n",
    "    import os\n",
    "    from bs4 import BeautifulSoup\n",
    "    from splinter import Browser\n",
    "    import requests\n",
    "    import pandas as pd\n",
    "    import time\n",
    "\n",
    "    executable_path = {'executable_path':'/Users/pkrosoff/Downloads/chromedriver'}\n",
    "    browser = Browser('chrome', **executable_path, headless=False)\n",
    "\n",
    "\n",
    "    url = \"https://mars.nasa.gov/news/\"\n",
    "    browser.visit(url)\n",
    "    html = browser.html\n",
    "    time.sleep(5)\n",
    "\n",
    "    #scrape title\n",
    "    soup = BeautifulSoup(html,'html.parser')\n",
    "    time.sleep(5)\n",
    "    sections = soup.find('li', class_='slide')\n",
    "    time.sleep(3)\n",
    "    container = sections.find('div', class_='image_and_description_container')\n",
    "    title_text = container.find('div', class_='list_text')\n",
    "    news_title = (title_text.find('div', class_='content_title')).text\n",
    "    #scrape news text\n",
    "    news_p = (title_text.find('div', class_='article_teaser_body')).text\n",
    "    mars_news = {\n",
    "        'news_title': news_title,\n",
    "        'news_p': news_p\n",
    "    }\n",
    "\n",
    "    #scrape featured mars image url\n",
    "    url = \"https://www.jpl.nasa.gov/spaceimages/?search=&category=Mars\"\n",
    "    browser.visit(url)\n",
    "    html = browser.html\n",
    "    time.sleep(5)\n",
    "\n",
    "    soup = BeautifulSoup(html,'html.parser')\n",
    "    article = soup.find('article', class_='carousel_item')\n",
    "    div = article.find('div', class_='default floating_text_area ms-layer')\n",
    "    image = div.find('a')['data-fancybox-href']\n",
    "    image = image.replace('mediumsize','largesize')\n",
    "    url = url.replace('/spaceimages/?search=&category=Mars','')\n",
    "    featured_image_url = f'{url}{image}'\n",
    "\n",
    "    url = \"https://space-facts.com/mars/\"\n",
    "    browser.visit(url)\n",
    "    time.sleep(5)\n",
    "    table = pd.read_html(url)\n",
    "    df = table[0]\n",
    "    df.columns=[\"Parameter\",\"Measurement\"]\n",
    "    df.set_index(\"Parameter\",inplace=True)\n",
    "    fact_table = df.to_html()\n",
    "    fact_table = fact_table.replace('\\n','')\n",
    "\n",
    "    url = 'https://astrogeology.usgs.gov/search/results?q=hemisphere+enhanced&k1=target&v1=Mars'\n",
    "    browser.visit(url)\n",
    "    html = browser.html\n",
    "    time.sleep(5)\n",
    "\n",
    "    soup = BeautifulSoup(html,'html.parser')\n",
    "    hemispheres = []\n",
    "    mars_biz = {}\n",
    "    items = soup.find_all('div', class_='item')\n",
    "    for item in items:\n",
    "        description = item.find('div', class_='description')\n",
    "        image_title = (description.find('h3')).text\n",
    "        partial_image_url = item.find('img', class_='thumb')['src']\n",
    "        image_url = f'{url}{partial_image_url}'\n",
    "        hemisphere_dict = {\n",
    "            \"title\": image_title,\n",
    "            \"image_url\": image_url\n",
    "        }\n",
    "        hemispheres.append(hemisphere_dict)\n",
    "#combine to fill data dict\n",
    "    mars_biz = {\"news_article\": mars_news, \"featured_image\": featured_image_url, \"fact_table\": fact_table, \"hemispheres\": hemisphere_dict}\n",
    "    return mars_biz"
   ]
  },
  {
   "cell_type": "code",
   "execution_count": 30,
   "metadata": {},
   "outputs": [
    {
     "ename": "AttributeError",
     "evalue": "'NoneType' object has no attribute 'find'",
     "output_type": "error",
     "traceback": [
      "\u001b[0;31m---------------------------------------------------------------------------\u001b[0m",
      "\u001b[0;31mAttributeError\u001b[0m                            Traceback (most recent call last)",
      "\u001b[0;32m<ipython-input-30-20ef00fd5394>\u001b[0m in \u001b[0;36m<module>\u001b[0;34m\u001b[0m\n\u001b[0;32m----> 1\u001b[0;31m \u001b[0mscrape\u001b[0m\u001b[0;34m(\u001b[0m\u001b[0;34m)\u001b[0m\u001b[0;34m\u001b[0m\u001b[0;34m\u001b[0m\u001b[0m\n\u001b[0m",
      "\u001b[0;32m<ipython-input-29-e594c676575c>\u001b[0m in \u001b[0;36mscrape\u001b[0;34m()\u001b[0m\n\u001b[1;32m     22\u001b[0m     \u001b[0msections\u001b[0m \u001b[0;34m=\u001b[0m \u001b[0msoup\u001b[0m\u001b[0;34m.\u001b[0m\u001b[0mfind\u001b[0m\u001b[0;34m(\u001b[0m\u001b[0;34m'li'\u001b[0m\u001b[0;34m,\u001b[0m \u001b[0mclass_\u001b[0m\u001b[0;34m=\u001b[0m\u001b[0;34m'slide'\u001b[0m\u001b[0;34m)\u001b[0m\u001b[0;34m\u001b[0m\u001b[0;34m\u001b[0m\u001b[0m\n\u001b[1;32m     23\u001b[0m     \u001b[0mtime\u001b[0m\u001b[0;34m.\u001b[0m\u001b[0msleep\u001b[0m\u001b[0;34m(\u001b[0m\u001b[0;36m3\u001b[0m\u001b[0;34m)\u001b[0m\u001b[0;34m\u001b[0m\u001b[0;34m\u001b[0m\u001b[0m\n\u001b[0;32m---> 24\u001b[0;31m     \u001b[0mcontainer\u001b[0m \u001b[0;34m=\u001b[0m \u001b[0msections\u001b[0m\u001b[0;34m.\u001b[0m\u001b[0mfind\u001b[0m\u001b[0;34m(\u001b[0m\u001b[0;34m'div'\u001b[0m\u001b[0;34m,\u001b[0m \u001b[0mclass_\u001b[0m\u001b[0;34m=\u001b[0m\u001b[0;34m'image_and_description_container'\u001b[0m\u001b[0;34m)\u001b[0m\u001b[0;34m\u001b[0m\u001b[0;34m\u001b[0m\u001b[0m\n\u001b[0m\u001b[1;32m     25\u001b[0m     \u001b[0mtitle_text\u001b[0m \u001b[0;34m=\u001b[0m \u001b[0mcontainer\u001b[0m\u001b[0;34m.\u001b[0m\u001b[0mfind\u001b[0m\u001b[0;34m(\u001b[0m\u001b[0;34m'div'\u001b[0m\u001b[0;34m,\u001b[0m \u001b[0mclass_\u001b[0m\u001b[0;34m=\u001b[0m\u001b[0;34m'list_text'\u001b[0m\u001b[0;34m)\u001b[0m\u001b[0;34m\u001b[0m\u001b[0;34m\u001b[0m\u001b[0m\n\u001b[1;32m     26\u001b[0m     \u001b[0mnews_title\u001b[0m \u001b[0;34m=\u001b[0m \u001b[0;34m(\u001b[0m\u001b[0mtitle_text\u001b[0m\u001b[0;34m.\u001b[0m\u001b[0mfind\u001b[0m\u001b[0;34m(\u001b[0m\u001b[0;34m'div'\u001b[0m\u001b[0;34m,\u001b[0m \u001b[0mclass_\u001b[0m\u001b[0;34m=\u001b[0m\u001b[0;34m'content_title'\u001b[0m\u001b[0;34m)\u001b[0m\u001b[0;34m)\u001b[0m\u001b[0;34m.\u001b[0m\u001b[0mtext\u001b[0m\u001b[0;34m\u001b[0m\u001b[0;34m\u001b[0m\u001b[0m\n",
      "\u001b[0;31mAttributeError\u001b[0m: 'NoneType' object has no attribute 'find'"
     ]
    }
   ],
   "source": [
    "scrape()"
   ]
  },
  {
   "cell_type": "code",
   "execution_count": null,
   "metadata": {},
   "outputs": [],
   "source": []
  }
 ],
 "metadata": {
  "kernelspec": {
   "display_name": "Python 3",
   "language": "python",
   "name": "python3"
  },
  "language_info": {
   "codemirror_mode": {
    "name": "ipython",
    "version": 3
   },
   "file_extension": ".py",
   "mimetype": "text/x-python",
   "name": "python",
   "nbconvert_exporter": "python",
   "pygments_lexer": "ipython3",
   "version": "3.6.10"
  }
 },
 "nbformat": 4,
 "nbformat_minor": 4
}
